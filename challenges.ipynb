{
 "cells": [
  {
   "cell_type": "markdown",
   "metadata": {},
   "source": [
    "https://leetcode.com/problems/fizz-buzz/"
   ]
  },
  {
   "cell_type": "code",
   "execution_count": null,
   "metadata": {},
   "outputs": [],
   "source": [
    "buzz_words = []\n",
    "    for i in range(1,n+1):\n",
    "        if i % 3 == 0:\n",
    "            if i % 5 == 0:\n",
    "                buzz_words.append(\"FizzBuzz\")\n",
    "            else:\n",
    "                buzz_words.append(\"Fizz\")\n",
    "        elif i % 5 == 0:\n",
    "            buzz_words.append(\"Buzz\")\n",
    "        else:\n",
    "            buzz_words.append(str(i))\n",
    "    return buzz_words"
   ]
  },
  {
   "cell_type": "markdown",
   "metadata": {},
   "source": [
    "https://www.hackerrank.com/challenges/write-a-function/problem"
   ]
  },
  {
   "cell_type": "code",
   "execution_count": null,
   "metadata": {},
   "outputs": [],
   "source": [
    "def is_leap(year):\n",
    "    leap = False\n",
    "    if year % 400 == 0:\n",
    "        leap = True\n",
    "    elif year % 100 == 0:  \n",
    "        leap = False\n",
    "    elif year % 4 == 0:\n",
    "        leap = True\n",
    "    return leap"
   ]
  },
  {
   "cell_type": "markdown",
   "metadata": {},
   "source": [
    "https://www.hackerrank.com/challenges/swap-case/problem"
   ]
  },
  {
   "cell_type": "code",
   "execution_count": null,
   "metadata": {},
   "outputs": [],
   "source": [
    "def swap_case(s):\n",
    "    new_string=''\n",
    "    new_char=''\n",
    "    for char in range(len(s)):\n",
    "        if 65<=ord(s[char])<=90:\n",
    "            new_char=chr(ord(s[char])+32)\n",
    "        elif 97<=ord(s[char])<=122:\n",
    "            new_char=chr(ord(s[char])-32)\n",
    "        else:\n",
    "            new_char=s[char]    \n",
    "        new_string+=(new_char)        \n",
    "    return new_string"
   ]
  },
  {
   "cell_type": "code",
   "execution_count": null,
   "metadata": {},
   "outputs": [],
   "source": [
    "def swap_case(s):\n",
    "    return ''.join([c.upper() if c.islower() else c.lower() for c in s])"
   ]
  },
  {
   "cell_type": "markdown",
   "metadata": {},
   "source": [
    "https://github.com/guipsamora/pandas_exercises"
   ]
  },
  {
   "cell_type": "markdown",
   "metadata": {},
   "source": [
    "https://www.hackerrank.com/challenges/the-blunder/problem"
   ]
  },
  {
   "cell_type": "code",
   "execution_count": null,
   "metadata": {},
   "outputs": [],
   "source": [
    "SELECT CEILING(AVG(Salary) - AVG(REPLACE(Salary, 0, \"\")))\n",
    "FROM EMPLOYEES;"
   ]
  },
  {
   "cell_type": "markdown",
   "metadata": {},
   "source": [
    "https://leetcode.com/problems/employees-earning-more-than-their-managers/"
   ]
  },
  {
   "cell_type": "code",
   "execution_count": null,
   "metadata": {},
   "outputs": [],
   "source": [
    "SELECT e.Name AS Employee\n",
    "            FROM Employee e\n",
    "            JOIN Employee m\n",
    "            ON e.ManagerId = m.ID\n",
    "            WHERE e.Salary > m.Salary"
   ]
  },
  {
   "cell_type": "markdown",
   "metadata": {},
   "source": [
    "https://www.hackerrank.com/challenges/revising-aggregations-the-count-function/problem"
   ]
  },
  {
   "cell_type": "code",
   "execution_count": null,
   "metadata": {},
   "outputs": [],
   "source": [
    "SELECT COUNT(ID) AS Number_of_cities_more_than_100000_population\n",
    "                 FROM City\n",
    "                 WHERE Population > 100000"
   ]
  },
  {
   "cell_type": "markdown",
   "metadata": {},
   "source": [
    "https://leetcode.com/problems/duplicate-emails/"
   ]
  },
  {
   "cell_type": "code",
   "execution_count": null,
   "metadata": {},
   "outputs": [],
   "source": [
    "SELECT Email FROM (SELECT Email, count(Email) as total\n",
    "                         FROM Person\n",
    "                         GROUP BY Email) as counter\n",
    "                         WHERE total > 1"
   ]
  },
  {
   "cell_type": "markdown",
   "metadata": {},
   "source": [
    "https://www.hackerrank.com/challenges/find-second-maximum-number-in-a-list/problem"
   ]
  },
  {
   "cell_type": "code",
   "execution_count": null,
   "metadata": {},
   "outputs": [],
   "source": [
    "arr_sort=sorted(arr)\n",
    "maximum=arr_sort[-1]\n",
    "while arr_sort[-1]==maximum:\n",
    "    arr_sort.pop()\n",
    "print(arr_sort[-1])"
   ]
  },
  {
   "cell_type": "markdown",
   "metadata": {},
   "source": [
    "https://codingbat.com/prob/p108886"
   ]
  },
  {
   "cell_type": "code",
   "execution_count": null,
   "metadata": {},
   "outputs": [],
   "source": [
    "def sum67(nums):\n",
    "    six_found = False\n",
    "    sum_num=0\n",
    "    for i in nums:\n",
    "        if six_found:\n",
    "            if i==7:\n",
    "                six_found=False\n",
    "                continue\n",
    "        elif i==6:\n",
    "            six_found=True\n",
    "            continue\n",
    "        else:\n",
    "            sum_num+=i\n",
    "    return sum_num"
   ]
  },
  {
   "cell_type": "markdown",
   "metadata": {},
   "source": [
    "https://www.hackerrank.com/challenges/text-wrap/problem"
   ]
  },
  {
   "cell_type": "code",
   "execution_count": null,
   "metadata": {},
   "outputs": [],
   "source": [
    "import textwrap\n",
    "def wrap(string, max_width):\n",
    "       return (textwrap.fill(string, max_width))"
   ]
  },
  {
   "cell_type": "markdown",
   "metadata": {},
   "source": [
    "https://leetcode.com/problems/integer-to-roman/"
   ]
  },
  {
   "cell_type": "code",
   "execution_count": null,
   "metadata": {},
   "outputs": [],
   "source": [
    "def intToRoman(self, num: int) -> str:\n",
    "        string_list=[]\n",
    "        while num > 0:\n",
    "            if num >= 1000:\n",
    "                string_list.append('M')\n",
    "                num -= 1000\n",
    "            elif num >= 900:\n",
    "                string_list.append('CM')\n",
    "                num -= 900\n",
    "            elif num >= 500:\n",
    "                string_list.append('D')\n",
    "                num -= 500\n",
    "            elif num >= 400:\n",
    "                string_list.append('CD')\n",
    "                num -= 400\n",
    "            elif num >= 100:\n",
    "                string_list.append('C')\n",
    "                num -= 100\n",
    "            elif num >= 90:\n",
    "                string_list.append('XC')\n",
    "                num -= 90\n",
    "            elif num >= 50:\n",
    "                string_list.append('L')\n",
    "                num -= 50\n",
    "            elif num >= 40:\n",
    "                string_list.append('XL')\n",
    "                num -= 40\n",
    "            elif num >= 10:\n",
    "                string_list.append('X')\n",
    "                num -= 10\n",
    "            elif num >= 9:\n",
    "                string_list.append('IX')\n",
    "                num -= 9\n",
    "            elif num >= 5:\n",
    "                string_list.append('V')\n",
    "                num -= 5\n",
    "            elif num >= 4:\n",
    "                string_list.append('IV')\n",
    "                num -= 4\n",
    "            elif num >= 1:\n",
    "                string_list.append('I')\n",
    "                num -= 1\n",
    "        return (''.join(string_list)) (edited) "
   ]
  },
  {
   "cell_type": "code",
   "execution_count": null,
   "metadata": {},
   "outputs": [],
   "source": [
    "def intToRoman(self, num: int) -> str:\n",
    "    count = [['M',1000],['CM',900],['D',500],['CD',400],['C',100],['XC',90],['L',50],['XL',40],['X',10],\n",
    "             ['IX',9],['V',5],['IV',4],['I',1],]\n",
    "    result = \"\"\n",
    "    for x in count:\n",
    "        result += x[0]*(num//x[1])\n",
    "        num = num%x[1]"
   ]
  },
  {
   "cell_type": "markdown",
   "metadata": {},
   "source": [
    "https://leetcode.com/problems/fibonacci-number/"
   ]
  },
  {
   "cell_type": "code",
   "execution_count": null,
   "metadata": {},
   "outputs": [],
   "source": [
    "def fib(self, N: int) -> int:\n",
    "        f = [0, 1]\n",
    "        i = 2\n",
    "        if N == 0:\n",
    "            return f[0]\n",
    "        while i <= N:\n",
    "            f.append(f[i-1]+f[i-2])\n",
    "            i += 1\n",
    "        return f[-1]"
   ]
  },
  {
   "cell_type": "markdown",
   "metadata": {},
   "source": [
    "Today's warmup question: If I get a p-value of 0.01 for my statistical test, what does that mean?\n",
    "\n",
    "There is a 1% chance of observing my test statistic by random chance, assuming the null hypothesis is true."
   ]
  },
  {
   "cell_type": "markdown",
   "metadata": {},
   "source": [
    "Today's Q: What are Type I and Type II errors?\n",
    "\n",
    "Type I: False positive (example: rejecting the null hypothesis when we should not have). Type II: False negative (example: failing to reject the null hypothesis when we should have).\n",
    "\n",
    "\n",
    "... building on that, in a hypothesis test the probability of a Type I error is alpha and the probability of a Type II error is beta.\n",
    "\n",
    "\n",
    "And and and when we take 1 - P(Type II Error), we have the statistical power of the test. Also, Type I and Type II errors are inversely related, so it's a trade off\n",
    "\n",
    "\n",
    "Type 1 is when we reject he null hypothesis when we should not have, type 2 is when we fail to reject the null but we should have rejected the null"
   ]
  },
  {
   "cell_type": "markdown",
   "metadata": {},
   "source": [
    "If the Covid test has a 10% false positive rate and a 5% false negative rate, given that you've tested positive for Covid, what is the probability that you actually have the virus? Assume 5% of the population has the virus. (Ans is 1/3 or 33%!!)"
   ]
  },
  {
   "cell_type": "code",
   "execution_count": null,
   "metadata": {},
   "outputs": [],
   "source": [
    "Looking for (P virus | positive):\n",
    "= P (Pos | V) * P(V) / P(Pos)\n",
    "P(Pos) = (.05*.95)+(.95*.1) = .1425\n",
    "P(Pos | V) = .95\n",
    "P(V) = .05\n",
    "P(V | Pos) = (.95 * .05) / .1425 = .33"
   ]
  },
  {
   "cell_type": "markdown",
   "metadata": {},
   "source": [
    "R-squared is a statistical measure that is used to assess the goodness of fit of a regression model.\n",
    "High R-squared value means the variations in dependent variable (y) are explained by the independent variable in our model."
   ]
  },
  {
   "cell_type": "markdown",
   "metadata": {},
   "source": [
    "Today's warmup question - what does the p-value for each coefficient mean? i.e. What hypothesis is being tested here?\n",
    "\n",
    "The null hypothesis we're testing for coefficient p-values is that the coefficient is actually 0 (and therefore has no impact on Y). With a low p-value, we can reject H0 and say that the coefficient isn't 0. We can also look at the confidence interval for the range/probability of coefficient values"
   ]
  },
  {
   "cell_type": "markdown",
   "metadata": {},
   "source": [
    "https://www.hackerrank.com/challenges/full-score/problem"
   ]
  },
  {
   "cell_type": "code",
   "execution_count": null,
   "metadata": {},
   "outputs": [],
   "source": [
    "SELECT h.hacker_id, name FROM Submissions s\n",
    "                 JOIN Challenges USING (challenge_id)\n",
    "                 JOIN Difficulty d USING (difficulty_level)\n",
    "                 JOIN Hackers h ON h.hacker_id = s.hacker_id\n",
    "                 WHERE s.score = d.score\n",
    "                 GROUP BY h.hacker_id, name HAVING COUNT(s.hacker_id) > 1\n",
    "                 ORDER BY COUNT(s.hacker_id) DESC, s.hacker_id ASC"
   ]
  },
  {
   "cell_type": "markdown",
   "metadata": {},
   "source": [
    "Gradient descent: A process for simultaneously moving along all axes of a regression cost function in a stepwise manner to follow the steepest descent to the minimum of the function, where each step is taken as a proportion of the current slope of the function to help avoid overstepping the minimum."
   ]
  },
  {
   "cell_type": "markdown",
   "metadata": {},
   "source": [
    "https://www.codewars.com/kata/reverse-or-rotate/train/python"
   ]
  },
  {
   "cell_type": "code",
   "execution_count": null,
   "metadata": {},
   "outputs": [],
   "source": [
    "def revrot(strng, sz):\n",
    "    if sz <= 0 or strng == \"\" or sz > len(strng):\n",
    "        return \"\"\n",
    "    chunks=[]\n",
    "    while len(strng) >= sz:\n",
    "        chunk = strng[:sz]\n",
    "        sum_of_cubes = 0\n",
    "        for i in range(sz):\n",
    "            sum_of_cubes += int(chunk[i])**3\n",
    "        if (sum_of_cubes%2) == 0:\n",
    "            chunk_end = chunk[::-1]\n",
    "        else:\n",
    "            chunk_end = chunk[1:] + chunk[0]\n",
    "        chunks.append(chunk_end)    \n",
    "        strng = strng[sz:]  \n",
    "    return ''.join(chunks)   "
   ]
  },
  {
   "cell_type": "markdown",
   "metadata": {},
   "source": []
  },
  {
   "cell_type": "code",
   "execution_count": null,
   "metadata": {},
   "outputs": [],
   "source": [
    "#!/bin/python3\n",
    "\n",
    "import math\n",
    "import os\n",
    "import random\n",
    "import re\n",
    "import sys\n",
    "\n",
    "\n",
    "\n",
    "if __name__ == '__main__':\n",
    "    n = int(input().strip())\n",
    "if n % 2 == 1:\n",
    "    print(\"Weird\")\n",
    "elif n in range(2,6):\n",
    "    print(\"Not Weird\")\n",
    "elif n in range(6,21):\n",
    "    print(\"Weird\")\n",
    "else:\n",
    "    print(\"Not Weird\")            "
   ]
  },
  {
   "cell_type": "code",
   "execution_count": null,
   "metadata": {},
   "outputs": [],
   "source": [
    "a, b = int(input()), int(input())\n",
    "print((a + b), (a - b), (a * b), sep='\\n')\n",
    "\n",
    "a = int(input())\n",
    "b = int(input())\n",
    "\n",
    "print('{0} \\n{1} \\n{2}'.format((a + b), (a - b), (a * b)))\n",
    "\n",
    "if __name__ == '__main__':\n",
    "    a = int(input())\n",
    "    b = int(input())\n",
    "    print(a//b,a/b, sep='\\n')\n",
    "    \n",
    "if __name__ == '__main__':\n",
    "    n = int(input())\n",
    "    for i in range(n):\n",
    "        print(i**2)    "
   ]
  },
  {
   "cell_type": "code",
   "execution_count": null,
   "metadata": {},
   "outputs": [],
   "source": [
    "if __name__ == '__main__':\n",
    "\n",
    "    score_list = []\n",
    "    second_lowest_names = []\n",
    "    scores = set()\n",
    "\n",
    "    for _ in range(int(input())):\n",
    "        name = input()\n",
    "        score = float(input())\n",
    "        score_list.append([name, score])\n",
    "        scores.add(score)\n",
    "        \n",
    "    second_lowest = sorted(scores)[1]\n",
    "\n",
    "    for name, score in score_list:\n",
    "        if score == second_lowest:\n",
    "            second_lowest_names.append(name)\n",
    "\n",
    "    for name in sorted(second_lowest_names):\n",
    "        print(name, end='\\n')"
   ]
  },
  {
   "cell_type": "code",
   "execution_count": null,
   "metadata": {},
   "outputs": [],
   "source": [
    "if __name__ == '__main__':\n",
    "    n = int(input())\n",
    "    student_marks = {}\n",
    "    for _ in range(n):\n",
    "        name, *line = input().split()\n",
    "        scores = list(map(float, line))\n",
    "        student_marks[name] = scores\n",
    "    query_name = input()\n",
    "    query_scores = student_marks[query_name]\n",
    "    \n",
    "    print(\"{0:.2f}\".format(sum(query_scores)/(len(query_scores))))"
   ]
  },
  {
   "cell_type": "markdown",
   "metadata": {},
   "source": [
    "https://www.hackerrank.com/challenges/python-lists/problem"
   ]
  },
  {
   "cell_type": "code",
   "execution_count": null,
   "metadata": {},
   "outputs": [],
   "source": [
    "if __name__ == '__main__':\n",
    "    N = int(input())\n",
    "    l = []\n",
    "    for _ in range(N):\n",
    "        s = input().split()\n",
    "        cmd = s[0]\n",
    "        args = s[1:]\n",
    "        if cmd !=\"print\":\n",
    "            cmd += \"(\"+ \",\".join(args) +\")\"\n",
    "            eval(\"l.\"+cmd)\n",
    "        else:\n",
    "            print(l)"
   ]
  },
  {
   "cell_type": "markdown",
   "metadata": {},
   "source": [
    "https://www.hackerrank.com/challenges/python-tuples/problem"
   ]
  },
  {
   "cell_type": "code",
   "execution_count": null,
   "metadata": {},
   "outputs": [],
   "source": [
    "if __name__ == '__main__':\n",
    "    n = int(input())\n",
    "    integer_list = map(int, input().split())\n",
    "    t=tuple(integer_list)\n",
    "    print(hash(t))"
   ]
  },
  {
   "cell_type": "code",
   "execution_count": null,
   "metadata": {},
   "outputs": [],
   "source": []
  }
 ],
 "metadata": {
  "kernelspec": {
   "display_name": "learn-env",
   "language": "python",
   "name": "learn-env"
  },
  "language_info": {
   "codemirror_mode": {
    "name": "ipython",
    "version": 3
   },
   "file_extension": ".py",
   "mimetype": "text/x-python",
   "name": "python",
   "nbconvert_exporter": "python",
   "pygments_lexer": "ipython3",
   "version": "3.8.5"
  },
  "toc": {
   "base_numbering": 1,
   "nav_menu": {},
   "number_sections": true,
   "sideBar": true,
   "skip_h1_title": false,
   "title_cell": "Table of Contents",
   "title_sidebar": "Contents",
   "toc_cell": false,
   "toc_position": {},
   "toc_section_display": true,
   "toc_window_display": false
  },
  "varInspector": {
   "cols": {
    "lenName": 16,
    "lenType": 16,
    "lenVar": 40
   },
   "kernels_config": {
    "python": {
     "delete_cmd_postfix": "",
     "delete_cmd_prefix": "del ",
     "library": "var_list.py",
     "varRefreshCmd": "print(var_dic_list())"
    },
    "r": {
     "delete_cmd_postfix": ") ",
     "delete_cmd_prefix": "rm(",
     "library": "var_list.r",
     "varRefreshCmd": "cat(var_dic_list()) "
    }
   },
   "types_to_exclude": [
    "module",
    "function",
    "builtin_function_or_method",
    "instance",
    "_Feature"
   ],
   "window_display": false
  }
 },
 "nbformat": 4,
 "nbformat_minor": 4
}
